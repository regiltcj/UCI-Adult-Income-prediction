{
 "cells": [
  {
   "cell_type": "code",
   "execution_count": 1,
   "id": "ffc5f46d",
   "metadata": {},
   "outputs": [],
   "source": [
    "import numpy as np\n",
    "import pandas as pd\n",
    "import matplotlib.pyplot as plt\n",
    "import seaborn as sns\n",
    "\n",
    "from sklearn.preprocessing import LabelEncoder\n",
    "from sklearn.model_selection import train_test_split, ParameterGrid, GridSearchCV\n",
    "\n",
    "from sklearn.tree import DecisionTreeClassifier\n",
    "\n",
    "from sklearn.metrics import confusion_matrix, classification_report, accuracy_score\n",
    "from sklearn.metrics import plot_roc_curve, roc_curve"
   ]
  },
  {
   "cell_type": "markdown",
   "id": "4b2e8f5e",
   "metadata": {},
   "source": [
    "## Reading the dataset"
   ]
  },
  {
   "cell_type": "code",
   "execution_count": 2,
   "id": "58bfadd5",
   "metadata": {},
   "outputs": [
    {
     "name": "stdout",
     "output_type": "stream",
     "text": [
      "Shape of the dataframe: (32561, 15)\n",
      "<class 'pandas.core.frame.DataFrame'>\n",
      "RangeIndex: 32561 entries, 0 to 32560\n",
      "Data columns (total 15 columns):\n",
      " #   Column          Non-Null Count  Dtype \n",
      "---  ------          --------------  ----- \n",
      " 0   age             32561 non-null  int64 \n",
      " 1   workclass       32561 non-null  object\n",
      " 2   fnlwgt          32561 non-null  int64 \n",
      " 3   education       32561 non-null  object\n",
      " 4   education.num   32561 non-null  int64 \n",
      " 5   marital.status  32561 non-null  object\n",
      " 6   occupation      32561 non-null  object\n",
      " 7   relationship    32561 non-null  object\n",
      " 8   race            32561 non-null  object\n",
      " 9   sex             32561 non-null  object\n",
      " 10  capital.gain    32561 non-null  int64 \n",
      " 11  capital.loss    32561 non-null  int64 \n",
      " 12  hours.per.week  32561 non-null  int64 \n",
      " 13  native.country  32561 non-null  object\n",
      " 14  income          32561 non-null  object\n",
      "dtypes: int64(6), object(9)\n",
      "memory usage: 3.7+ MB\n",
      "None\n"
     ]
    }
   ],
   "source": [
    "df = pd.read_csv(\"./adult_dataset.csv\")\n",
    "print(\"Shape of the dataframe: {}\".format(df.shape))\n",
    "print(df.info())"
   ]
  },
  {
   "cell_type": "markdown",
   "id": "f0981258",
   "metadata": {},
   "source": [
    "## Data Cleaning"
   ]
  },
  {
   "cell_type": "code",
   "execution_count": 3,
   "id": "370a87d5",
   "metadata": {
    "scrolled": false
   },
   "outputs": [
    {
     "data": {
      "text/html": [
       "<div>\n",
       "<style scoped>\n",
       "    .dataframe tbody tr th:only-of-type {\n",
       "        vertical-align: middle;\n",
       "    }\n",
       "\n",
       "    .dataframe tbody tr th {\n",
       "        vertical-align: top;\n",
       "    }\n",
       "\n",
       "    .dataframe thead th {\n",
       "        text-align: right;\n",
       "    }\n",
       "</style>\n",
       "<table border=\"1\" class=\"dataframe\">\n",
       "  <thead>\n",
       "    <tr style=\"text-align: right;\">\n",
       "      <th></th>\n",
       "      <th>age</th>\n",
       "      <th>workclass</th>\n",
       "      <th>fnlwgt</th>\n",
       "      <th>education</th>\n",
       "      <th>education.num</th>\n",
       "      <th>marital.status</th>\n",
       "      <th>occupation</th>\n",
       "      <th>relationship</th>\n",
       "      <th>race</th>\n",
       "      <th>sex</th>\n",
       "      <th>capital.gain</th>\n",
       "      <th>capital.loss</th>\n",
       "      <th>hours.per.week</th>\n",
       "      <th>native.country</th>\n",
       "      <th>income</th>\n",
       "    </tr>\n",
       "  </thead>\n",
       "  <tbody>\n",
       "    <tr>\n",
       "      <th>0</th>\n",
       "      <td>90</td>\n",
       "      <td>?</td>\n",
       "      <td>77053</td>\n",
       "      <td>HS-grad</td>\n",
       "      <td>9</td>\n",
       "      <td>Widowed</td>\n",
       "      <td>?</td>\n",
       "      <td>Not-in-family</td>\n",
       "      <td>White</td>\n",
       "      <td>Female</td>\n",
       "      <td>0</td>\n",
       "      <td>4356</td>\n",
       "      <td>40</td>\n",
       "      <td>United-States</td>\n",
       "      <td>&lt;=50K</td>\n",
       "    </tr>\n",
       "    <tr>\n",
       "      <th>1</th>\n",
       "      <td>82</td>\n",
       "      <td>Private</td>\n",
       "      <td>132870</td>\n",
       "      <td>HS-grad</td>\n",
       "      <td>9</td>\n",
       "      <td>Widowed</td>\n",
       "      <td>Exec-managerial</td>\n",
       "      <td>Not-in-family</td>\n",
       "      <td>White</td>\n",
       "      <td>Female</td>\n",
       "      <td>0</td>\n",
       "      <td>4356</td>\n",
       "      <td>18</td>\n",
       "      <td>United-States</td>\n",
       "      <td>&lt;=50K</td>\n",
       "    </tr>\n",
       "    <tr>\n",
       "      <th>2</th>\n",
       "      <td>66</td>\n",
       "      <td>?</td>\n",
       "      <td>186061</td>\n",
       "      <td>Some-college</td>\n",
       "      <td>10</td>\n",
       "      <td>Widowed</td>\n",
       "      <td>?</td>\n",
       "      <td>Unmarried</td>\n",
       "      <td>Black</td>\n",
       "      <td>Female</td>\n",
       "      <td>0</td>\n",
       "      <td>4356</td>\n",
       "      <td>40</td>\n",
       "      <td>United-States</td>\n",
       "      <td>&lt;=50K</td>\n",
       "    </tr>\n",
       "    <tr>\n",
       "      <th>3</th>\n",
       "      <td>54</td>\n",
       "      <td>Private</td>\n",
       "      <td>140359</td>\n",
       "      <td>7th-8th</td>\n",
       "      <td>4</td>\n",
       "      <td>Divorced</td>\n",
       "      <td>Machine-op-inspct</td>\n",
       "      <td>Unmarried</td>\n",
       "      <td>White</td>\n",
       "      <td>Female</td>\n",
       "      <td>0</td>\n",
       "      <td>3900</td>\n",
       "      <td>40</td>\n",
       "      <td>United-States</td>\n",
       "      <td>&lt;=50K</td>\n",
       "    </tr>\n",
       "    <tr>\n",
       "      <th>4</th>\n",
       "      <td>41</td>\n",
       "      <td>Private</td>\n",
       "      <td>264663</td>\n",
       "      <td>Some-college</td>\n",
       "      <td>10</td>\n",
       "      <td>Separated</td>\n",
       "      <td>Prof-specialty</td>\n",
       "      <td>Own-child</td>\n",
       "      <td>White</td>\n",
       "      <td>Female</td>\n",
       "      <td>0</td>\n",
       "      <td>3900</td>\n",
       "      <td>40</td>\n",
       "      <td>United-States</td>\n",
       "      <td>&lt;=50K</td>\n",
       "    </tr>\n",
       "  </tbody>\n",
       "</table>\n",
       "</div>"
      ],
      "text/plain": [
       "   age workclass  fnlwgt     education  education.num marital.status  \\\n",
       "0   90         ?   77053       HS-grad              9        Widowed   \n",
       "1   82   Private  132870       HS-grad              9        Widowed   \n",
       "2   66         ?  186061  Some-college             10        Widowed   \n",
       "3   54   Private  140359       7th-8th              4       Divorced   \n",
       "4   41   Private  264663  Some-college             10      Separated   \n",
       "\n",
       "          occupation   relationship   race     sex  capital.gain  \\\n",
       "0                  ?  Not-in-family  White  Female             0   \n",
       "1    Exec-managerial  Not-in-family  White  Female             0   \n",
       "2                  ?      Unmarried  Black  Female             0   \n",
       "3  Machine-op-inspct      Unmarried  White  Female             0   \n",
       "4     Prof-specialty      Own-child  White  Female             0   \n",
       "\n",
       "   capital.loss  hours.per.week native.country income  \n",
       "0          4356              40  United-States  <=50K  \n",
       "1          4356              18  United-States  <=50K  \n",
       "2          4356              40  United-States  <=50K  \n",
       "3          3900              40  United-States  <=50K  \n",
       "4          3900              40  United-States  <=50K  "
      ]
     },
     "execution_count": 3,
     "metadata": {},
     "output_type": "execute_result"
    }
   ],
   "source": [
    "df.head()"
   ]
  },
  {
   "cell_type": "markdown",
   "id": "6fb29f7b",
   "metadata": {},
   "source": [
    "<b>'age'</b>"
   ]
  },
  {
   "cell_type": "code",
   "execution_count": 4,
   "id": "28cb563e",
   "metadata": {},
   "outputs": [
    {
     "data": {
      "text/plain": [
       "count    32561.000000\n",
       "mean        38.581647\n",
       "std         13.640433\n",
       "min         17.000000\n",
       "25%         28.000000\n",
       "50%         37.000000\n",
       "75%         48.000000\n",
       "max         90.000000\n",
       "Name: age, dtype: float64"
      ]
     },
     "execution_count": 4,
     "metadata": {},
     "output_type": "execute_result"
    }
   ],
   "source": [
    "df['age'].describe()"
   ]
  },
  {
   "cell_type": "markdown",
   "id": "45a6cc81",
   "metadata": {},
   "source": [
    " <b>'education'</b> and <b>'education.num'</b>"
   ]
  },
  {
   "cell_type": "code",
   "execution_count": 5,
   "id": "fa154574",
   "metadata": {},
   "outputs": [
    {
     "data": {
      "text/plain": [
       "9     10501\n",
       "10     7291\n",
       "13     5355\n",
       "14     1723\n",
       "11     1382\n",
       "7      1175\n",
       "12     1067\n",
       "6       933\n",
       "4       646\n",
       "15      576\n",
       "5       514\n",
       "8       433\n",
       "16      413\n",
       "3       333\n",
       "2       168\n",
       "1        51\n",
       "Name: education.num, dtype: int64"
      ]
     },
     "execution_count": 5,
     "metadata": {},
     "output_type": "execute_result"
    }
   ],
   "source": [
    "df['education.num'].value_counts()"
   ]
  },
  {
   "cell_type": "code",
   "execution_count": 6,
   "id": "b47d9fbb",
   "metadata": {},
   "outputs": [
    {
     "data": {
      "text/plain": [
       "HS-grad         10501\n",
       "Some-college     7291\n",
       "Bachelors        5355\n",
       "Masters          1723\n",
       "Assoc-voc        1382\n",
       "11th             1175\n",
       "Assoc-acdm       1067\n",
       "10th              933\n",
       "7th-8th           646\n",
       "Prof-school       576\n",
       "9th               514\n",
       "12th              433\n",
       "Doctorate         413\n",
       "5th-6th           333\n",
       "1st-4th           168\n",
       "Preschool          51\n",
       "Name: education, dtype: int64"
      ]
     },
     "execution_count": 6,
     "metadata": {},
     "output_type": "execute_result"
    }
   ],
   "source": [
    "df['education'].value_counts()"
   ]
  },
  {
   "cell_type": "code",
   "execution_count": 7,
   "id": "aabc4e2f",
   "metadata": {},
   "outputs": [
    {
     "data": {
      "text/plain": [
       "education.num  education   \n",
       "1              Preschool          51\n",
       "2              1st-4th           168\n",
       "3              5th-6th           333\n",
       "4              7th-8th           646\n",
       "5              9th               514\n",
       "6              10th              933\n",
       "7              11th             1175\n",
       "8              12th              433\n",
       "9              HS-grad         10501\n",
       "10             Some-college     7291\n",
       "11             Assoc-voc        1382\n",
       "12             Assoc-acdm       1067\n",
       "13             Bachelors        5355\n",
       "14             Masters          1723\n",
       "15             Prof-school       576\n",
       "16             Doctorate         413\n",
       "dtype: int64"
      ]
     },
     "execution_count": 7,
     "metadata": {},
     "output_type": "execute_result"
    }
   ],
   "source": [
    "df.groupby([\"education.num\", \"education\"]).size()"
   ]
  },
  {
   "cell_type": "markdown",
   "id": "3eff6cb8",
   "metadata": {},
   "source": [
    "For each of the education level in the field 'education', we have a corresponding number assigned in the field 'education.num'. Hence we can remove one of the redundant fields. <br>\n",
    "***Dropping 'education'*** since keeping label encoded field will be beneficial"
   ]
  },
  {
   "cell_type": "code",
   "execution_count": 8,
   "id": "65f8abf7",
   "metadata": {},
   "outputs": [
    {
     "data": {
      "text/plain": [
       "(32561, 14)"
      ]
     },
     "execution_count": 8,
     "metadata": {},
     "output_type": "execute_result"
    }
   ],
   "source": [
    "df.drop(columns=['education'],inplace=True)\n",
    "df.shape"
   ]
  },
  {
   "cell_type": "markdown",
   "id": "862a06b9",
   "metadata": {},
   "source": [
    "<b>'fnlwgt'</b>"
   ]
  },
  {
   "cell_type": "code",
   "execution_count": 9,
   "id": "88c2424e",
   "metadata": {},
   "outputs": [
    {
     "data": {
      "text/plain": [
       "count    3.256100e+04\n",
       "mean     1.897784e+05\n",
       "std      1.055500e+05\n",
       "min      1.228500e+04\n",
       "25%      1.178270e+05\n",
       "50%      1.783560e+05\n",
       "75%      2.370510e+05\n",
       "max      1.484705e+06\n",
       "Name: fnlwgt, dtype: float64"
      ]
     },
     "execution_count": 9,
     "metadata": {},
     "output_type": "execute_result"
    }
   ],
   "source": [
    "df[\"fnlwgt\"].describe()"
   ]
  },
  {
   "cell_type": "markdown",
   "id": "3d838d6b",
   "metadata": {},
   "source": [
    "Since the ***'fnlwgt'*** field is dependent on the State and the State info is not available, keeping this field will not do any benefit. Hence ***dropping 'fnlwgt'***"
   ]
  },
  {
   "cell_type": "code",
   "execution_count": 10,
   "id": "5750be5e",
   "metadata": {},
   "outputs": [
    {
     "data": {
      "text/plain": [
       "(32561, 13)"
      ]
     },
     "execution_count": 10,
     "metadata": {},
     "output_type": "execute_result"
    }
   ],
   "source": [
    "df.drop(columns=[\"fnlwgt\"], inplace=True)\n",
    "df.shape"
   ]
  },
  {
   "cell_type": "markdown",
   "id": "14920195",
   "metadata": {},
   "source": [
    "<b>'workclass'</b>"
   ]
  },
  {
   "cell_type": "code",
   "execution_count": 11,
   "id": "79dbae87",
   "metadata": {},
   "outputs": [
    {
     "data": {
      "text/plain": [
       "Private             22696\n",
       "Self-emp-not-inc     2541\n",
       "Local-gov            2093\n",
       "?                    1836\n",
       "State-gov            1298\n",
       "Self-emp-inc         1116\n",
       "Federal-gov           960\n",
       "Without-pay            14\n",
       "Never-worked            7\n",
       "Name: workclass, dtype: int64"
      ]
     },
     "execution_count": 11,
     "metadata": {},
     "output_type": "execute_result"
    }
   ],
   "source": [
    "df['workclass'].value_counts()"
   ]
  },
  {
   "cell_type": "code",
   "execution_count": 12,
   "id": "05dd28d4",
   "metadata": {},
   "outputs": [
    {
     "data": {
      "text/plain": [
       "income\n",
       "<=50K     21\n",
       "dtype: int64"
      ]
     },
     "execution_count": 12,
     "metadata": {},
     "output_type": "execute_result"
    }
   ],
   "source": [
    "# Checking the income for those with 'workclass' as 'Without-pay' and 'Never-worked'\n",
    "df.loc[df['workclass'].isin([\"Without-pay\",\"Never-worked\"]) ,[\"income\"]].value_counts()"
   ]
  },
  {
   "cell_type": "markdown",
   "id": "9cb01845",
   "metadata": {},
   "source": [
    "As expected the income for 'workclass' as 'Without-pay' and 'Never-worked' is '<=50K'"
   ]
  },
  {
   "cell_type": "markdown",
   "id": "3f067f3d",
   "metadata": {},
   "source": [
    "<b>'marital.statue'</b>"
   ]
  },
  {
   "cell_type": "code",
   "execution_count": 13,
   "id": "838989a3",
   "metadata": {},
   "outputs": [
    {
     "data": {
      "text/plain": [
       "Married-civ-spouse       14976\n",
       "Never-married            10683\n",
       "Divorced                  4443\n",
       "Separated                 1025\n",
       "Widowed                    993\n",
       "Married-spouse-absent      418\n",
       "Married-AF-spouse           23\n",
       "Name: marital.status, dtype: int64"
      ]
     },
     "execution_count": 13,
     "metadata": {},
     "output_type": "execute_result"
    }
   ],
   "source": [
    "df[\"marital.status\"].value_counts()"
   ]
  },
  {
   "cell_type": "markdown",
   "id": "e8172f3c",
   "metadata": {},
   "source": [
    "<b>'occupation'</b>"
   ]
  },
  {
   "cell_type": "code",
   "execution_count": 14,
   "id": "836954ae",
   "metadata": {},
   "outputs": [
    {
     "data": {
      "text/plain": [
       "Prof-specialty       4140\n",
       "Craft-repair         4099\n",
       "Exec-managerial      4066\n",
       "Adm-clerical         3770\n",
       "Sales                3650\n",
       "Other-service        3295\n",
       "Machine-op-inspct    2002\n",
       "?                    1843\n",
       "Transport-moving     1597\n",
       "Handlers-cleaners    1370\n",
       "Farming-fishing       994\n",
       "Tech-support          928\n",
       "Protective-serv       649\n",
       "Priv-house-serv       149\n",
       "Armed-Forces            9\n",
       "Name: occupation, dtype: int64"
      ]
     },
     "execution_count": 14,
     "metadata": {},
     "output_type": "execute_result"
    }
   ],
   "source": [
    "df['occupation'].value_counts()"
   ]
  },
  {
   "cell_type": "markdown",
   "id": "d4ba3c1a",
   "metadata": {},
   "source": [
    "<b>'relationship'</b>"
   ]
  },
  {
   "cell_type": "code",
   "execution_count": 15,
   "id": "b9f676d0",
   "metadata": {},
   "outputs": [
    {
     "data": {
      "text/plain": [
       "Husband           13193\n",
       "Not-in-family      8305\n",
       "Own-child          5068\n",
       "Unmarried          3446\n",
       "Wife               1568\n",
       "Other-relative      981\n",
       "Name: relationship, dtype: int64"
      ]
     },
     "execution_count": 15,
     "metadata": {},
     "output_type": "execute_result"
    }
   ],
   "source": [
    "df[\"relationship\"].value_counts()"
   ]
  },
  {
   "cell_type": "markdown",
   "id": "28ec38c9",
   "metadata": {},
   "source": [
    "<b>'race'</b>"
   ]
  },
  {
   "cell_type": "code",
   "execution_count": 16,
   "id": "7fd90680",
   "metadata": {},
   "outputs": [
    {
     "data": {
      "text/plain": [
       "White                 27816\n",
       "Black                  3124\n",
       "Asian-Pac-Islander     1039\n",
       "Amer-Indian-Eskimo      311\n",
       "Other                   271\n",
       "Name: race, dtype: int64"
      ]
     },
     "execution_count": 16,
     "metadata": {},
     "output_type": "execute_result"
    }
   ],
   "source": [
    "df[\"race\"].value_counts()"
   ]
  },
  {
   "cell_type": "markdown",
   "id": "ff828bf9",
   "metadata": {},
   "source": [
    "<b>'sex'</b>"
   ]
  },
  {
   "cell_type": "code",
   "execution_count": 17,
   "id": "9c2d0c8d",
   "metadata": {},
   "outputs": [
    {
     "data": {
      "text/plain": [
       "Male      21790\n",
       "Female    10771\n",
       "Name: sex, dtype: int64"
      ]
     },
     "execution_count": 17,
     "metadata": {},
     "output_type": "execute_result"
    }
   ],
   "source": [
    "df[\"sex\"].value_counts()"
   ]
  },
  {
   "cell_type": "markdown",
   "id": "3138768a",
   "metadata": {},
   "source": [
    "<b>'capital.gain'</b>"
   ]
  },
  {
   "cell_type": "code",
   "execution_count": 18,
   "id": "c7d2762c",
   "metadata": {},
   "outputs": [
    {
     "data": {
      "text/plain": [
       "0        29849\n",
       "15024      347\n",
       "7688       284\n",
       "7298       246\n",
       "99999      159\n",
       "         ...  \n",
       "1111         1\n",
       "4931         1\n",
       "7978         1\n",
       "5060         1\n",
       "2538         1\n",
       "Name: capital.gain, Length: 119, dtype: int64"
      ]
     },
     "execution_count": 18,
     "metadata": {},
     "output_type": "execute_result"
    }
   ],
   "source": [
    "df['capital.gain'].value_counts()"
   ]
  },
  {
   "cell_type": "markdown",
   "id": "b40e2c38",
   "metadata": {},
   "source": [
    "<b>'capital.loss'</b>"
   ]
  },
  {
   "cell_type": "code",
   "execution_count": 19,
   "id": "eb8f1e54",
   "metadata": {
    "scrolled": true
   },
   "outputs": [
    {
     "data": {
      "text/plain": [
       "0       31042\n",
       "1902      202\n",
       "1977      168\n",
       "1887      159\n",
       "1485       51\n",
       "        ...  \n",
       "2201        1\n",
       "2163        1\n",
       "1944        1\n",
       "1539        1\n",
       "2472        1\n",
       "Name: capital.loss, Length: 92, dtype: int64"
      ]
     },
     "execution_count": 19,
     "metadata": {},
     "output_type": "execute_result"
    }
   ],
   "source": [
    "df['capital.loss'].value_counts()"
   ]
  },
  {
   "cell_type": "markdown",
   "id": "4353409e",
   "metadata": {},
   "source": [
    "<b>'hours.per.week'</b>"
   ]
  },
  {
   "cell_type": "code",
   "execution_count": 20,
   "id": "967076e3",
   "metadata": {
    "scrolled": true
   },
   "outputs": [
    {
     "data": {
      "text/plain": [
       "count    32561.000000\n",
       "mean        40.437456\n",
       "std         12.347429\n",
       "min          1.000000\n",
       "25%         40.000000\n",
       "50%         40.000000\n",
       "75%         45.000000\n",
       "max         99.000000\n",
       "Name: hours.per.week, dtype: float64"
      ]
     },
     "execution_count": 20,
     "metadata": {},
     "output_type": "execute_result"
    }
   ],
   "source": [
    "df[\"hours.per.week\"].describe()"
   ]
  },
  {
   "cell_type": "code",
   "execution_count": 21,
   "id": "e06b8c73",
   "metadata": {},
   "outputs": [
    {
     "data": {
      "text/plain": [
       "hours.per.week\n",
       "40                3\n",
       "4                 1\n",
       "10                1\n",
       "30                1\n",
       "35                1\n",
       "dtype: int64"
      ]
     },
     "execution_count": 21,
     "metadata": {},
     "output_type": "execute_result"
    }
   ],
   "source": [
    "df.loc[df['workclass'].isin([\"Never-worked\"]) ,[\"hours.per.week\"]].value_counts()"
   ]
  },
  {
   "cell_type": "markdown",
   "id": "8b15126b",
   "metadata": {},
   "source": [
    "This is anomalous behaviour. It was expected that the 'Never-worked' population will be having 'hours.per.week' as 0. But its having 'hours.per.week' as high as 40"
   ]
  },
  {
   "cell_type": "markdown",
   "id": "808e6f22",
   "metadata": {},
   "source": [
    "<b>'native.country'</b>"
   ]
  },
  {
   "cell_type": "code",
   "execution_count": 22,
   "id": "509f6428",
   "metadata": {},
   "outputs": [
    {
     "data": {
      "text/plain": [
       "United-States                 29170\n",
       "Mexico                          643\n",
       "?                               583\n",
       "Philippines                     198\n",
       "Germany                         137\n",
       "Canada                          121\n",
       "Puerto-Rico                     114\n",
       "El-Salvador                     106\n",
       "India                           100\n",
       "Cuba                             95\n",
       "England                          90\n",
       "Jamaica                          81\n",
       "South                            80\n",
       "China                            75\n",
       "Italy                            73\n",
       "Dominican-Republic               70\n",
       "Vietnam                          67\n",
       "Guatemala                        64\n",
       "Japan                            62\n",
       "Poland                           60\n",
       "Columbia                         59\n",
       "Taiwan                           51\n",
       "Haiti                            44\n",
       "Iran                             43\n",
       "Portugal                         37\n",
       "Nicaragua                        34\n",
       "Peru                             31\n",
       "Greece                           29\n",
       "France                           29\n",
       "Ecuador                          28\n",
       "Ireland                          24\n",
       "Hong                             20\n",
       "Cambodia                         19\n",
       "Trinadad&Tobago                  19\n",
       "Laos                             18\n",
       "Thailand                         18\n",
       "Yugoslavia                       16\n",
       "Outlying-US(Guam-USVI-etc)       14\n",
       "Hungary                          13\n",
       "Honduras                         13\n",
       "Scotland                         12\n",
       "Holand-Netherlands                1\n",
       "Name: native.country, dtype: int64"
      ]
     },
     "execution_count": 22,
     "metadata": {},
     "output_type": "execute_result"
    }
   ],
   "source": [
    "df[\"native.country\"].value_counts()"
   ]
  },
  {
   "cell_type": "markdown",
   "id": "22a55ac4",
   "metadata": {},
   "source": [
    "<b>'income'</b>"
   ]
  },
  {
   "cell_type": "code",
   "execution_count": 23,
   "id": "b8f2381a",
   "metadata": {},
   "outputs": [
    {
     "data": {
      "text/plain": [
       "<=50K    75.919044\n",
       ">50K     24.080956\n",
       "Name: income, dtype: float64"
      ]
     },
     "execution_count": 23,
     "metadata": {},
     "output_type": "execute_result"
    }
   ],
   "source": [
    "df['income'].value_counts(normalize=True, dropna=False)*100"
   ]
  },
  {
   "cell_type": "markdown",
   "id": "aa88a239",
   "metadata": {},
   "source": [
    "We have slight class imbalance with the '<=50K' being the dominant class. Class imbalance will be handled at a later stage"
   ]
  },
  {
   "cell_type": "markdown",
   "id": "950ca817",
   "metadata": {},
   "source": [
    "<b>Handling the '?' symbol in the dataset</b>"
   ]
  },
  {
   "cell_type": "code",
   "execution_count": 24,
   "id": "27d65185",
   "metadata": {
    "scrolled": true
   },
   "outputs": [
    {
     "data": {
      "text/plain": [
       "Index(['workclass', 'occupation', 'native.country'], dtype='object')"
      ]
     },
     "execution_count": 24,
     "metadata": {},
     "output_type": "execute_result"
    }
   ],
   "source": [
    "# Checking the fields that contain the '?' character\n",
    "df.columns[df.apply(lambda x: x==\"?\", axis=0).sum()>0]"
   ]
  },
  {
   "cell_type": "markdown",
   "id": "a30ce375",
   "metadata": {},
   "source": [
    "I was expecting '?' to be indicating 'unemployed'. But since the 'workclass' already has 'Never-worked' as a value, '?' might not be the category for un-employed. Also the records with income class '>50K' also has '?' in it. Thus its not probable that those are of unemployed categories"
   ]
  },
  {
   "cell_type": "code",
   "execution_count": 25,
   "id": "2bb1e91d",
   "metadata": {},
   "outputs": [
    {
     "data": {
      "text/plain": [
       "7.36770983692147"
      ]
     },
     "execution_count": 25,
     "metadata": {},
     "output_type": "execute_result"
    }
   ],
   "source": [
    "# Percentage of records with '?' in it\n",
    "df.loc[(df['workclass']=='?') | (df['occupation']=='?') | (df['native.country']=='?')].shape[0]*100/df.shape[0]"
   ]
  },
  {
   "cell_type": "code",
   "execution_count": 26,
   "id": "54603991",
   "metadata": {},
   "outputs": [
    {
     "data": {
      "text/plain": [
       "<=50K    86.119216\n",
       ">50K     13.880784\n",
       "Name: income, dtype: float64"
      ]
     },
     "execution_count": 26,
     "metadata": {},
     "output_type": "execute_result"
    }
   ],
   "source": [
    "# Distribution of invalid records among the two income classes\n",
    "df.loc[(df['workclass']=='?') | (df['occupation']=='?') | (df['native.country']=='?'), \"income\"].value_counts(normalize=True)*100"
   ]
  },
  {
   "cell_type": "markdown",
   "id": "12ef3540",
   "metadata": {},
   "source": [
    "Of all the records having '?' character, 86% are from the income class '<=50K' and remaining are from the income class '>50K'"
   ]
  },
  {
   "cell_type": "code",
   "execution_count": 27,
   "id": "27514c39",
   "metadata": {},
   "outputs": [
    {
     "data": {
      "text/plain": [
       "<=50K    0.083576\n",
       ">50K     0.042469\n",
       "Name: income, dtype: float64"
      ]
     },
     "execution_count": 27,
     "metadata": {},
     "output_type": "execute_result"
    }
   ],
   "source": [
    "# Percentage of records (w.r.t to each income class that has invalid records)\n",
    "df.loc[(df['workclass']=='?') | (df['occupation']=='?') | (df['native.country']=='?'), \"income\"].value_counts()/df.loc[:,\"income\"].value_counts()"
   ]
  },
  {
   "cell_type": "markdown",
   "id": "75f9b661",
   "metadata": {},
   "source": [
    "8% of records of income class '<=50K' is having '?' character in it, while 4% of the records of income class '>50K' has '?' characters in it"
   ]
  },
  {
   "cell_type": "code",
   "execution_count": 28,
   "id": "5ab68e1a",
   "metadata": {
    "scrolled": false
   },
   "outputs": [
    {
     "data": {
      "text/plain": [
       "Female    7.808003\n",
       "Male      4.598440\n",
       "dtype: float64"
      ]
     },
     "execution_count": 28,
     "metadata": {},
     "output_type": "execute_result"
    }
   ],
   "source": [
    "df.loc[df['occupation'] == \"?\",[\"sex\"]].groupby(\"sex\").size()*100/df['sex'].value_counts()"
   ]
  },
  {
   "cell_type": "markdown",
   "id": "a5720a3c",
   "metadata": {},
   "source": [
    "Since only 8% records have '?' as value and those records have almost proportional representation from each of the classes , it is better to ***drop those records***"
   ]
  },
  {
   "cell_type": "code",
   "execution_count": 29,
   "id": "f9e8d43c",
   "metadata": {},
   "outputs": [
    {
     "data": {
      "text/plain": [
       "(30162, 13)"
      ]
     },
     "execution_count": 29,
     "metadata": {},
     "output_type": "execute_result"
    }
   ],
   "source": [
    "# Dropping the records with '?' in it\n",
    "df.drop(index=df.loc[(df['workclass']=='?') | (df['occupation']=='?') | (df['native.country']=='?'), \"income\"].index, inplace=True)\n",
    "df.shape"
   ]
  },
  {
   "cell_type": "code",
   "execution_count": 30,
   "id": "f58a1068",
   "metadata": {},
   "outputs": [
    {
     "data": {
      "text/plain": [
       "Index([], dtype='object')"
      ]
     },
     "execution_count": 30,
     "metadata": {},
     "output_type": "execute_result"
    }
   ],
   "source": [
    "# Checking the fields that contain the '?' character\n",
    "df.columns[df.apply(lambda x: x==\"?\", axis=0).sum()>0]"
   ]
  },
  {
   "cell_type": "markdown",
   "id": "3ea28b29",
   "metadata": {},
   "source": [
    "## Data Preperation"
   ]
  },
  {
   "cell_type": "code",
   "execution_count": 31,
   "id": "9238b98f",
   "metadata": {},
   "outputs": [
    {
     "data": {
      "text/plain": [
       "Index(['workclass', 'marital.status', 'occupation', 'relationship', 'race',\n",
       "       'sex', 'native.country', 'income'],\n",
       "      dtype='object')"
      ]
     },
     "execution_count": 31,
     "metadata": {},
     "output_type": "execute_result"
    }
   ],
   "source": [
    "# Label encoding the categorical variables (including the target variable)\n",
    "df.select_dtypes(include=[\"object\"]).columns"
   ]
  },
  {
   "cell_type": "code",
   "execution_count": 32,
   "id": "aa048e75",
   "metadata": {},
   "outputs": [
    {
     "data": {
      "text/plain": [
       "Index(['age', 'education.num', 'capital.gain', 'capital.loss',\n",
       "       'hours.per.week'],\n",
       "      dtype='object')"
      ]
     },
     "execution_count": 32,
     "metadata": {},
     "output_type": "execute_result"
    }
   ],
   "source": [
    "df.select_dtypes(exclude=[\"object\"]).columns"
   ]
  },
  {
   "cell_type": "code",
   "execution_count": 33,
   "id": "7bb321ab",
   "metadata": {
    "scrolled": true
   },
   "outputs": [
    {
     "name": "stdout",
     "output_type": "stream",
     "text": [
      "<class 'pandas.core.frame.DataFrame'>\n",
      "Int64Index: 30162 entries, 1 to 32560\n",
      "Data columns (total 13 columns):\n",
      " #   Column          Non-Null Count  Dtype\n",
      "---  ------          --------------  -----\n",
      " 0   age             30162 non-null  int64\n",
      " 1   workclass       30162 non-null  int32\n",
      " 2   education.num   30162 non-null  int64\n",
      " 3   marital.status  30162 non-null  int32\n",
      " 4   occupation      30162 non-null  int32\n",
      " 5   relationship    30162 non-null  int32\n",
      " 6   race            30162 non-null  int32\n",
      " 7   sex             30162 non-null  int32\n",
      " 8   capital.gain    30162 non-null  int64\n",
      " 9   capital.loss    30162 non-null  int64\n",
      " 10  hours.per.week  30162 non-null  int64\n",
      " 11  native.country  30162 non-null  int32\n",
      " 12  income          30162 non-null  int32\n",
      "dtypes: int32(8), int64(5)\n",
      "memory usage: 2.3 MB\n"
     ]
    }
   ],
   "source": [
    "# Label encoding the categorical fields\n",
    "cat_cols = df.select_dtypes(include=[\"object\"]).columns\n",
    "df.loc[:,cat_cols] = df[cat_cols].apply(LabelEncoder().fit_transform)\n",
    "df.info()"
   ]
  },
  {
   "cell_type": "code",
   "execution_count": 34,
   "id": "605c7543",
   "metadata": {},
   "outputs": [],
   "source": [
    "# Extracting dependent and independent variable from the dataframe\n",
    "X = df.loc[:, [col for col in df.columns if col != \"income\"]]\n",
    "y = df[\"income\"]"
   ]
  },
  {
   "cell_type": "code",
   "execution_count": 35,
   "id": "91006fd0",
   "metadata": {},
   "outputs": [
    {
     "name": "stdout",
     "output_type": "stream",
     "text": [
      "Shape of the train set: (21113, 12) and (21113,)\n",
      "Shape of the test set: (9049, 12) and (9049,)\n"
     ]
    }
   ],
   "source": [
    "X_train, X_test, y_train, y_test = train_test_split(X, y, test_size=0.3, random_state=42)\n",
    "print(\"Shape of the train set: {} and {}\".format(X_train.shape, y_train.shape))\n",
    "print(\"Shape of the test set: {} and {}\".format(X_test.shape, y_test.shape))"
   ]
  },
  {
   "cell_type": "markdown",
   "id": "c6bd999d",
   "metadata": {},
   "source": [
    "## Model fitting"
   ]
  },
  {
   "cell_type": "markdown",
   "id": "265d6106",
   "metadata": {},
   "source": [
    "<b>Decision Tree</b>"
   ]
  },
  {
   "cell_type": "code",
   "execution_count": 36,
   "id": "d9110c7c",
   "metadata": {},
   "outputs": [
    {
     "name": "stdout",
     "output_type": "stream",
     "text": [
      "Depth of the decision tree: 41\n"
     ]
    }
   ],
   "source": [
    "clf_dt = DecisionTreeClassifier(random_state=42)\n",
    "clf_dt.fit(X_train, y_train)\n",
    "print(\"Depth of the decision tree: {}\".format(clf_dt.tree_.max_depth))"
   ]
  },
  {
   "cell_type": "code",
   "execution_count": 37,
   "id": "29382982",
   "metadata": {},
   "outputs": [],
   "source": [
    "y_train_pred = clf_dt.predict(X_train)"
   ]
  },
  {
   "cell_type": "code",
   "execution_count": 38,
   "id": "9176ecb1",
   "metadata": {},
   "outputs": [
    {
     "name": "stdout",
     "output_type": "stream",
     "text": [
      "******Train Set******\n",
      "Accuaracy\n",
      "0.9791123952067446\n",
      "--------------------------------------------------\n",
      "Classification Report\n",
      "              precision    recall  f1-score   support\n",
      "\n",
      "           0       0.98      1.00      0.99     15900\n",
      "           1       0.99      0.93      0.96      5213\n",
      "\n",
      "    accuracy                           0.98     21113\n",
      "   macro avg       0.98      0.96      0.97     21113\n",
      "weighted avg       0.98      0.98      0.98     21113\n",
      "\n",
      "--------------------------------------------------\n",
      "Confusion Matrix\n",
      "[[15843    57]\n",
      " [  384  4829]]\n"
     ]
    }
   ],
   "source": [
    "print(\"******Train Set******\")\n",
    "print(\"Accuaracy\")\n",
    "print(accuracy_score(y_train, y_train_pred))\n",
    "print(\"-\"*50)\n",
    "print(\"Classification Report\")\n",
    "print(classification_report(y_train, y_train_pred))\n",
    "print(\"-\"*50)\n",
    "print(\"Confusion Matrix\")\n",
    "print(confusion_matrix(y_train, y_train_pred))"
   ]
  },
  {
   "cell_type": "code",
   "execution_count": 39,
   "id": "1d3668fe",
   "metadata": {},
   "outputs": [],
   "source": [
    "y_test_pred = clf_dt.predict(X_test)"
   ]
  },
  {
   "cell_type": "code",
   "execution_count": 40,
   "id": "21ce0de6",
   "metadata": {},
   "outputs": [
    {
     "name": "stdout",
     "output_type": "stream",
     "text": [
      "******Test Set******\n",
      "Accuaracy\n",
      "0.8088186539949166\n",
      "--------------------------------------------------\n",
      "Classification Report\n",
      "              precision    recall  f1-score   support\n",
      "\n",
      "           0       0.87      0.88      0.87      6754\n",
      "           1       0.63      0.61      0.62      2295\n",
      "\n",
      "    accuracy                           0.81      9049\n",
      "   macro avg       0.75      0.74      0.75      9049\n",
      "weighted avg       0.81      0.81      0.81      9049\n",
      "\n",
      "--------------------------------------------------\n",
      "Confusion Matrix\n",
      "[[5917  837]\n",
      " [ 893 1402]]\n"
     ]
    }
   ],
   "source": [
    "print(\"******Test Set******\")\n",
    "print(\"Accuaracy\")\n",
    "print(accuracy_score(y_test, y_test_pred))\n",
    "print(\"-\"*50)\n",
    "print(\"Classification Report\")\n",
    "print(classification_report(y_test, y_test_pred))\n",
    "print(\"-\"*50)\n",
    "print(\"Confusion Matrix\")\n",
    "print(confusion_matrix(y_test, y_test_pred))"
   ]
  },
  {
   "cell_type": "markdown",
   "id": "bb51f9d6",
   "metadata": {},
   "source": [
    "## Hyperparameter tuning"
   ]
  },
  {
   "cell_type": "markdown",
   "id": "9bcd7dd0",
   "metadata": {},
   "source": [
    "<b>max_depth</b>"
   ]
  },
  {
   "cell_type": "code",
   "execution_count": 41,
   "id": "6ba782a1",
   "metadata": {},
   "outputs": [
    {
     "name": "stdout",
     "output_type": "stream",
     "text": [
      "Fitting 5 folds for each of 39 candidates, totalling 195 fits\n"
     ]
    },
    {
     "data": {
      "text/plain": [
       "GridSearchCV(cv=5, estimator=DecisionTreeClassifier(random_state=42), n_jobs=4,\n",
       "             param_grid={'max_depth': [2, 3, 4, 5, 6, 7, 8, 9, 10, 11, 12, 13,\n",
       "                                       14, 15, 16, 17, 18, 19, 20, 21, 22, 23,\n",
       "                                       24, 25, 26, 27, 28, 29, 30, 31, ...]},\n",
       "             return_train_score=True, scoring='roc_auc', verbose=4)"
      ]
     },
     "execution_count": 41,
     "metadata": {},
     "output_type": "execute_result"
    }
   ],
   "source": [
    "# param_grid = ParameterGrid({\"max_depth\":[5]})\n",
    "param_grid = {\"max_depth\":list(range(2, 41))}\n",
    "clf_gs = GridSearchCV(estimator=clf_dt, param_grid=param_grid, scoring=\"roc_auc\", cv=5, n_jobs=4, verbose=4, return_train_score=True)\n",
    "clf_gs.fit(X_train, y_train)"
   ]
  },
  {
   "cell_type": "code",
   "execution_count": 42,
   "id": "642a1d3c",
   "metadata": {
    "scrolled": true
   },
   "outputs": [
    {
     "data": {
      "text/html": [
       "<div>\n",
       "<style scoped>\n",
       "    .dataframe tbody tr th:only-of-type {\n",
       "        vertical-align: middle;\n",
       "    }\n",
       "\n",
       "    .dataframe tbody tr th {\n",
       "        vertical-align: top;\n",
       "    }\n",
       "\n",
       "    .dataframe thead th {\n",
       "        text-align: right;\n",
       "    }\n",
       "</style>\n",
       "<table border=\"1\" class=\"dataframe\">\n",
       "  <thead>\n",
       "    <tr style=\"text-align: right;\">\n",
       "      <th></th>\n",
       "      <th>mean_fit_time</th>\n",
       "      <th>std_fit_time</th>\n",
       "      <th>mean_score_time</th>\n",
       "      <th>std_score_time</th>\n",
       "      <th>param_max_depth</th>\n",
       "      <th>params</th>\n",
       "      <th>split0_test_score</th>\n",
       "      <th>split1_test_score</th>\n",
       "      <th>split2_test_score</th>\n",
       "      <th>split3_test_score</th>\n",
       "      <th>...</th>\n",
       "      <th>mean_test_score</th>\n",
       "      <th>std_test_score</th>\n",
       "      <th>rank_test_score</th>\n",
       "      <th>split0_train_score</th>\n",
       "      <th>split1_train_score</th>\n",
       "      <th>split2_train_score</th>\n",
       "      <th>split3_train_score</th>\n",
       "      <th>split4_train_score</th>\n",
       "      <th>mean_train_score</th>\n",
       "      <th>std_train_score</th>\n",
       "    </tr>\n",
       "  </thead>\n",
       "  <tbody>\n",
       "    <tr>\n",
       "      <th>0</th>\n",
       "      <td>0.016196</td>\n",
       "      <td>0.002397</td>\n",
       "      <td>0.004403</td>\n",
       "      <td>0.000795</td>\n",
       "      <td>2</td>\n",
       "      <td>{'max_depth': 2}</td>\n",
       "      <td>0.802950</td>\n",
       "      <td>0.801068</td>\n",
       "      <td>0.800965</td>\n",
       "      <td>0.801786</td>\n",
       "      <td>...</td>\n",
       "      <td>0.801527</td>\n",
       "      <td>0.000782</td>\n",
       "      <td>19</td>\n",
       "      <td>0.801163</td>\n",
       "      <td>0.801631</td>\n",
       "      <td>0.801677</td>\n",
       "      <td>0.801459</td>\n",
       "      <td>0.801689</td>\n",
       "      <td>0.801524</td>\n",
       "      <td>0.000198</td>\n",
       "    </tr>\n",
       "    <tr>\n",
       "      <th>1</th>\n",
       "      <td>0.017795</td>\n",
       "      <td>0.002923</td>\n",
       "      <td>0.003405</td>\n",
       "      <td>0.000804</td>\n",
       "      <td>3</td>\n",
       "      <td>{'max_depth': 3}</td>\n",
       "      <td>0.839016</td>\n",
       "      <td>0.851999</td>\n",
       "      <td>0.843620</td>\n",
       "      <td>0.851450</td>\n",
       "      <td>...</td>\n",
       "      <td>0.846767</td>\n",
       "      <td>0.004904</td>\n",
       "      <td>12</td>\n",
       "      <td>0.848817</td>\n",
       "      <td>0.845536</td>\n",
       "      <td>0.847626</td>\n",
       "      <td>0.845631</td>\n",
       "      <td>0.846630</td>\n",
       "      <td>0.846848</td>\n",
       "      <td>0.001244</td>\n",
       "    </tr>\n",
       "    <tr>\n",
       "      <th>2</th>\n",
       "      <td>0.022600</td>\n",
       "      <td>0.002800</td>\n",
       "      <td>0.003604</td>\n",
       "      <td>0.000485</td>\n",
       "      <td>4</td>\n",
       "      <td>{'max_depth': 4}</td>\n",
       "      <td>0.855974</td>\n",
       "      <td>0.869132</td>\n",
       "      <td>0.865281</td>\n",
       "      <td>0.870892</td>\n",
       "      <td>...</td>\n",
       "      <td>0.864886</td>\n",
       "      <td>0.005229</td>\n",
       "      <td>9</td>\n",
       "      <td>0.867444</td>\n",
       "      <td>0.864141</td>\n",
       "      <td>0.872977</td>\n",
       "      <td>0.867428</td>\n",
       "      <td>0.865773</td>\n",
       "      <td>0.867553</td>\n",
       "      <td>0.002975</td>\n",
       "    </tr>\n",
       "    <tr>\n",
       "      <th>3</th>\n",
       "      <td>0.029816</td>\n",
       "      <td>0.006293</td>\n",
       "      <td>0.005012</td>\n",
       "      <td>0.001066</td>\n",
       "      <td>5</td>\n",
       "      <td>{'max_depth': 5}</td>\n",
       "      <td>0.866893</td>\n",
       "      <td>0.880891</td>\n",
       "      <td>0.874851</td>\n",
       "      <td>0.888863</td>\n",
       "      <td>...</td>\n",
       "      <td>0.876842</td>\n",
       "      <td>0.007495</td>\n",
       "      <td>6</td>\n",
       "      <td>0.878768</td>\n",
       "      <td>0.878477</td>\n",
       "      <td>0.883694</td>\n",
       "      <td>0.881982</td>\n",
       "      <td>0.876175</td>\n",
       "      <td>0.879819</td>\n",
       "      <td>0.002679</td>\n",
       "    </tr>\n",
       "    <tr>\n",
       "      <th>4</th>\n",
       "      <td>0.041400</td>\n",
       "      <td>0.006406</td>\n",
       "      <td>0.005200</td>\n",
       "      <td>0.002400</td>\n",
       "      <td>6</td>\n",
       "      <td>{'max_depth': 6}</td>\n",
       "      <td>0.879868</td>\n",
       "      <td>0.893876</td>\n",
       "      <td>0.890398</td>\n",
       "      <td>0.892627</td>\n",
       "      <td>...</td>\n",
       "      <td>0.889539</td>\n",
       "      <td>0.004991</td>\n",
       "      <td>4</td>\n",
       "      <td>0.897093</td>\n",
       "      <td>0.893605</td>\n",
       "      <td>0.898838</td>\n",
       "      <td>0.897336</td>\n",
       "      <td>0.894753</td>\n",
       "      <td>0.896325</td>\n",
       "      <td>0.001887</td>\n",
       "    </tr>\n",
       "  </tbody>\n",
       "</table>\n",
       "<p>5 rows × 21 columns</p>\n",
       "</div>"
      ],
      "text/plain": [
       "   mean_fit_time  std_fit_time  mean_score_time  std_score_time  \\\n",
       "0       0.016196      0.002397         0.004403        0.000795   \n",
       "1       0.017795      0.002923         0.003405        0.000804   \n",
       "2       0.022600      0.002800         0.003604        0.000485   \n",
       "3       0.029816      0.006293         0.005012        0.001066   \n",
       "4       0.041400      0.006406         0.005200        0.002400   \n",
       "\n",
       "  param_max_depth            params  split0_test_score  split1_test_score  \\\n",
       "0               2  {'max_depth': 2}           0.802950           0.801068   \n",
       "1               3  {'max_depth': 3}           0.839016           0.851999   \n",
       "2               4  {'max_depth': 4}           0.855974           0.869132   \n",
       "3               5  {'max_depth': 5}           0.866893           0.880891   \n",
       "4               6  {'max_depth': 6}           0.879868           0.893876   \n",
       "\n",
       "   split2_test_score  split3_test_score  ...  mean_test_score  std_test_score  \\\n",
       "0           0.800965           0.801786  ...         0.801527        0.000782   \n",
       "1           0.843620           0.851450  ...         0.846767        0.004904   \n",
       "2           0.865281           0.870892  ...         0.864886        0.005229   \n",
       "3           0.874851           0.888863  ...         0.876842        0.007495   \n",
       "4           0.890398           0.892627  ...         0.889539        0.004991   \n",
       "\n",
       "   rank_test_score  split0_train_score  split1_train_score  \\\n",
       "0               19            0.801163            0.801631   \n",
       "1               12            0.848817            0.845536   \n",
       "2                9            0.867444            0.864141   \n",
       "3                6            0.878768            0.878477   \n",
       "4                4            0.897093            0.893605   \n",
       "\n",
       "   split2_train_score  split3_train_score  split4_train_score  \\\n",
       "0            0.801677            0.801459            0.801689   \n",
       "1            0.847626            0.845631            0.846630   \n",
       "2            0.872977            0.867428            0.865773   \n",
       "3            0.883694            0.881982            0.876175   \n",
       "4            0.898838            0.897336            0.894753   \n",
       "\n",
       "   mean_train_score  std_train_score  \n",
       "0          0.801524         0.000198  \n",
       "1          0.846848         0.001244  \n",
       "2          0.867553         0.002975  \n",
       "3          0.879819         0.002679  \n",
       "4          0.896325         0.001887  \n",
       "\n",
       "[5 rows x 21 columns]"
      ]
     },
     "execution_count": 42,
     "metadata": {},
     "output_type": "execute_result"
    }
   ],
   "source": [
    "grid_search_results = pd.DataFrame(clf_gs.cv_results_)\n",
    "grid_search_results.head()"
   ]
  },
  {
   "cell_type": "code",
   "execution_count": 43,
   "id": "20fa9526",
   "metadata": {
    "scrolled": true
   },
   "outputs": [
    {
     "data": {
      "image/png": "[encoded data removed]",
      "text/plain": [
       "<Figure size 1296x432 with 1 Axes>"
      ]
     },
     "metadata": {
      "needs_background": "light"
     },
     "output_type": "display_data"
    }
   ],
   "source": [
    "plt.figure(figsize=(18,6))\n",
    "plt.plot(grid_search_results[\"param_max_depth\"], grid_search_results[\"mean_test_score\"], label=\"test\")\n",
    "plt.plot(grid_search_results[\"param_max_depth\"], grid_search_results[\"mean_train_score\"], label=\"train\")\n",
    "plt.grid(visible=True, axis=\"x\")\n",
    "plt.xticks(ticks=range(0,40,2))\n",
    "plt.legend()\n",
    "plt.show()"
   ]
  },
  {
   "cell_type": "markdown",
   "id": "2bfb14cb",
   "metadata": {},
   "source": [
    "<b>min_samples_split</b>"
   ]
  },
  {
   "cell_type": "code",
   "execution_count": 44,
   "id": "5ffc2fc5",
   "metadata": {},
   "outputs": [
    {
     "name": "stdout",
     "output_type": "stream",
     "text": [
      "Fitting 5 folds for each of 40 candidates, totalling 200 fits\n"
     ]
    },
    {
     "data": {
      "text/plain": [
       "GridSearchCV(cv=5, estimator=DecisionTreeClassifier(random_state=42), n_jobs=4,\n",
       "             param_grid={'min_samples_split': [2, 7, 12, 17, 22, 27, 32, 37, 42,\n",
       "                                               47, 52, 57, 62, 67, 72, 77, 82,\n",
       "                                               87, 92, 97, 102, 107, 112, 117,\n",
       "                                               122, 127, 132, 137, 142, 147, ...]},\n",
       "             return_train_score=True, scoring='roc_auc', verbose=4)"
      ]
     },
     "execution_count": 44,
     "metadata": {},
     "output_type": "execute_result"
    }
   ],
   "source": [
    "param_grid = {\"min_samples_split\":list(range(2, 200, 5))}\n",
    "clf_gs = GridSearchCV(estimator=clf_dt, param_grid=param_grid, scoring=\"roc_auc\", cv=5, n_jobs=4, verbose=4, return_train_score=True)\n",
    "clf_gs.fit(X_train, y_train)"
   ]
  },
  {
   "cell_type": "code",
   "execution_count": 45,
   "id": "c2c34f50",
   "metadata": {
    "scrolled": true
   },
   "outputs": [
    {
     "data": {
      "text/html": [
       "<div>\n",
       "<style scoped>\n",
       "    .dataframe tbody tr th:only-of-type {\n",
       "        vertical-align: middle;\n",
       "    }\n",
       "\n",
       "    .dataframe tbody tr th {\n",
       "        vertical-align: top;\n",
       "    }\n",
       "\n",
       "    .dataframe thead th {\n",
       "        text-align: right;\n",
       "    }\n",
       "</style>\n",
       "<table border=\"1\" class=\"dataframe\">\n",
       "  <thead>\n",
       "    <tr style=\"text-align: right;\">\n",
       "      <th></th>\n",
       "      <th>mean_fit_time</th>\n",
       "      <th>std_fit_time</th>\n",
       "      <th>mean_score_time</th>\n",
       "      <th>std_score_time</th>\n",
       "      <th>param_min_samples_split</th>\n",
       "      <th>params</th>\n",
       "      <th>split0_test_score</th>\n",
       "      <th>split1_test_score</th>\n",
       "      <th>split2_test_score</th>\n",
       "      <th>split3_test_score</th>\n",
       "      <th>...</th>\n",
       "      <th>mean_test_score</th>\n",
       "      <th>std_test_score</th>\n",
       "      <th>rank_test_score</th>\n",
       "      <th>split0_train_score</th>\n",
       "      <th>split1_train_score</th>\n",
       "      <th>split2_train_score</th>\n",
       "      <th>split3_train_score</th>\n",
       "      <th>split4_train_score</th>\n",
       "      <th>mean_train_score</th>\n",
       "      <th>std_train_score</th>\n",
       "    </tr>\n",
       "  </thead>\n",
       "  <tbody>\n",
       "    <tr>\n",
       "      <th>0</th>\n",
       "      <td>0.059189</td>\n",
       "      <td>0.005811</td>\n",
       "      <td>0.004201</td>\n",
       "      <td>0.000401</td>\n",
       "      <td>2</td>\n",
       "      <td>{'min_samples_split': 2}</td>\n",
       "      <td>0.755345</td>\n",
       "      <td>0.757753</td>\n",
       "      <td>0.758999</td>\n",
       "      <td>0.773975</td>\n",
       "      <td>...</td>\n",
       "      <td>0.760659</td>\n",
       "      <td>0.006761</td>\n",
       "      <td>40</td>\n",
       "      <td>0.999017</td>\n",
       "      <td>0.999027</td>\n",
       "      <td>0.999025</td>\n",
       "      <td>0.998948</td>\n",
       "      <td>0.999054</td>\n",
       "      <td>0.999014</td>\n",
       "      <td>0.000036</td>\n",
       "    </tr>\n",
       "    <tr>\n",
       "      <th>1</th>\n",
       "      <td>0.061302</td>\n",
       "      <td>0.003313</td>\n",
       "      <td>0.004602</td>\n",
       "      <td>0.000491</td>\n",
       "      <td>7</td>\n",
       "      <td>{'min_samples_split': 7}</td>\n",
       "      <td>0.797245</td>\n",
       "      <td>0.814907</td>\n",
       "      <td>0.806074</td>\n",
       "      <td>0.815166</td>\n",
       "      <td>...</td>\n",
       "      <td>0.806578</td>\n",
       "      <td>0.007492</td>\n",
       "      <td>39</td>\n",
       "      <td>0.987400</td>\n",
       "      <td>0.987092</td>\n",
       "      <td>0.987004</td>\n",
       "      <td>0.987016</td>\n",
       "      <td>0.987031</td>\n",
       "      <td>0.987108</td>\n",
       "      <td>0.000149</td>\n",
       "    </tr>\n",
       "    <tr>\n",
       "      <th>2</th>\n",
       "      <td>0.061107</td>\n",
       "      <td>0.005503</td>\n",
       "      <td>0.003804</td>\n",
       "      <td>0.000750</td>\n",
       "      <td>12</td>\n",
       "      <td>{'min_samples_split': 12}</td>\n",
       "      <td>0.822341</td>\n",
       "      <td>0.831841</td>\n",
       "      <td>0.828475</td>\n",
       "      <td>0.839116</td>\n",
       "      <td>...</td>\n",
       "      <td>0.829884</td>\n",
       "      <td>0.005531</td>\n",
       "      <td>38</td>\n",
       "      <td>0.977246</td>\n",
       "      <td>0.977533</td>\n",
       "      <td>0.976780</td>\n",
       "      <td>0.977108</td>\n",
       "      <td>0.977172</td>\n",
       "      <td>0.977168</td>\n",
       "      <td>0.000242</td>\n",
       "    </tr>\n",
       "    <tr>\n",
       "      <th>3</th>\n",
       "      <td>0.057800</td>\n",
       "      <td>0.007026</td>\n",
       "      <td>0.004605</td>\n",
       "      <td>0.000802</td>\n",
       "      <td>17</td>\n",
       "      <td>{'min_samples_split': 17}</td>\n",
       "      <td>0.836837</td>\n",
       "      <td>0.844567</td>\n",
       "      <td>0.842665</td>\n",
       "      <td>0.853422</td>\n",
       "      <td>...</td>\n",
       "      <td>0.844294</td>\n",
       "      <td>0.005325</td>\n",
       "      <td>37</td>\n",
       "      <td>0.970463</td>\n",
       "      <td>0.969829</td>\n",
       "      <td>0.969700</td>\n",
       "      <td>0.969797</td>\n",
       "      <td>0.970395</td>\n",
       "      <td>0.970037</td>\n",
       "      <td>0.000324</td>\n",
       "    </tr>\n",
       "    <tr>\n",
       "      <th>4</th>\n",
       "      <td>0.057800</td>\n",
       "      <td>0.008705</td>\n",
       "      <td>0.004000</td>\n",
       "      <td>0.000894</td>\n",
       "      <td>22</td>\n",
       "      <td>{'min_samples_split': 22}</td>\n",
       "      <td>0.849393</td>\n",
       "      <td>0.852842</td>\n",
       "      <td>0.851346</td>\n",
       "      <td>0.860887</td>\n",
       "      <td>...</td>\n",
       "      <td>0.853862</td>\n",
       "      <td>0.003941</td>\n",
       "      <td>36</td>\n",
       "      <td>0.964444</td>\n",
       "      <td>0.964327</td>\n",
       "      <td>0.963885</td>\n",
       "      <td>0.965026</td>\n",
       "      <td>0.965033</td>\n",
       "      <td>0.964543</td>\n",
       "      <td>0.000439</td>\n",
       "    </tr>\n",
       "  </tbody>\n",
       "</table>\n",
       "<p>5 rows × 21 columns</p>\n",
       "</div>"
      ],
      "text/plain": [
       "   mean_fit_time  std_fit_time  mean_score_time  std_score_time  \\\n",
       "0       0.059189      0.005811         0.004201        0.000401   \n",
       "1       0.061302      0.003313         0.004602        0.000491   \n",
       "2       0.061107      0.005503         0.003804        0.000750   \n",
       "3       0.057800      0.007026         0.004605        0.000802   \n",
       "4       0.057800      0.008705         0.004000        0.000894   \n",
       "\n",
       "  param_min_samples_split                     params  split0_test_score  \\\n",
       "0                       2   {'min_samples_split': 2}           0.755345   \n",
       "1                       7   {'min_samples_split': 7}           0.797245   \n",
       "2                      12  {'min_samples_split': 12}           0.822341   \n",
       "3                      17  {'min_samples_split': 17}           0.836837   \n",
       "4                      22  {'min_samples_split': 22}           0.849393   \n",
       "\n",
       "   split1_test_score  split2_test_score  split3_test_score  ...  \\\n",
       "0           0.757753           0.758999           0.773975  ...   \n",
       "1           0.814907           0.806074           0.815166  ...   \n",
       "2           0.831841           0.828475           0.839116  ...   \n",
       "3           0.844567           0.842665           0.853422  ...   \n",
       "4           0.852842           0.851346           0.860887  ...   \n",
       "\n",
       "   mean_test_score  std_test_score  rank_test_score  split0_train_score  \\\n",
       "0         0.760659        0.006761               40            0.999017   \n",
       "1         0.806578        0.007492               39            0.987400   \n",
       "2         0.829884        0.005531               38            0.977246   \n",
       "3         0.844294        0.005325               37            0.970463   \n",
       "4         0.853862        0.003941               36            0.964444   \n",
       "\n",
       "   split1_train_score  split2_train_score  split3_train_score  \\\n",
       "0            0.999027            0.999025            0.998948   \n",
       "1            0.987092            0.987004            0.987016   \n",
       "2            0.977533            0.976780            0.977108   \n",
       "3            0.969829            0.969700            0.969797   \n",
       "4            0.964327            0.963885            0.965026   \n",
       "\n",
       "   split4_train_score  mean_train_score  std_train_score  \n",
       "0            0.999054          0.999014         0.000036  \n",
       "1            0.987031          0.987108         0.000149  \n",
       "2            0.977172          0.977168         0.000242  \n",
       "3            0.970395          0.970037         0.000324  \n",
       "4            0.965033          0.964543         0.000439  \n",
       "\n",
       "[5 rows x 21 columns]"
      ]
     },
     "execution_count": 45,
     "metadata": {},
     "output_type": "execute_result"
    }
   ],
   "source": [
    "grid_search_results = pd.DataFrame(clf_gs.cv_results_)\n",
    "grid_search_results.head()"
   ]
  },
  {
   "cell_type": "code",
   "execution_count": 46,
   "id": "d6e6b5ea",
   "metadata": {
    "scrolled": true
   },
   "outputs": [
    {
     "data": {
      "image/png": "[encoded data removed]",
      "text/plain": [
       "<Figure size 1296x432 with 1 Axes>"
      ]
     },
     "metadata": {
      "needs_background": "light"
     },
     "output_type": "display_data"
    }
   ],
   "source": [
    "plt.figure(figsize=(18,6))\n",
    "plt.plot(grid_search_results[\"param_min_samples_split\"], grid_search_results[\"mean_test_score\"], label=\"test\")\n",
    "plt.plot(grid_search_results[\"param_min_samples_split\"], grid_search_results[\"mean_train_score\"], label=\"train\")\n",
    "plt.grid(visible=True, axis=\"x\")\n",
    "plt.xticks(ticks=range(2,200,5))\n",
    "plt.legend()\n",
    "plt.show()"
   ]
  },
  {
   "cell_type": "markdown",
   "id": "5b1ccb16",
   "metadata": {},
   "source": [
    "<b>min_samples_leaf</b>"
   ]
  },
  {
   "cell_type": "code",
   "execution_count": 47,
   "id": "c4b91a53",
   "metadata": {},
   "outputs": [
    {
     "name": "stdout",
     "output_type": "stream",
     "text": [
      "Fitting 5 folds for each of 15 candidates, totalling 75 fits\n"
     ]
    },
    {
     "data": {
      "text/plain": [
       "GridSearchCV(cv=5, estimator=DecisionTreeClassifier(random_state=42), n_jobs=4,\n",
       "             param_grid={'min_samples_leaf': [1, 21, 41, 61, 81, 101, 121, 141,\n",
       "                                              161, 181, 201, 221, 241, 261,\n",
       "                                              281]},\n",
       "             return_train_score=True, scoring='roc_auc', verbose=4)"
      ]
     },
     "execution_count": 47,
     "metadata": {},
     "output_type": "execute_result"
    }
   ],
   "source": [
    "# param_grid = ParameterGrid({\"max_depth\":[5]})\n",
    "param_grid = {\"min_samples_leaf\":list(range(1,300,20))}\n",
    "clf_gs = GridSearchCV(estimator=clf_dt, param_grid=param_grid, scoring=\"roc_auc\", cv=5, n_jobs=4, verbose=4, return_train_score=True)\n",
    "clf_gs.fit(X_train, y_train)"
   ]
  },
  {
   "cell_type": "code",
   "execution_count": 48,
   "id": "3a68c331",
   "metadata": {
    "scrolled": true
   },
   "outputs": [
    {
     "data": {
      "text/html": [
       "<div>\n",
       "<style scoped>\n",
       "    .dataframe tbody tr th:only-of-type {\n",
       "        vertical-align: middle;\n",
       "    }\n",
       "\n",
       "    .dataframe tbody tr th {\n",
       "        vertical-align: top;\n",
       "    }\n",
       "\n",
       "    .dataframe thead th {\n",
       "        text-align: right;\n",
       "    }\n",
       "</style>\n",
       "<table border=\"1\" class=\"dataframe\">\n",
       "  <thead>\n",
       "    <tr style=\"text-align: right;\">\n",
       "      <th></th>\n",
       "      <th>mean_fit_time</th>\n",
       "      <th>std_fit_time</th>\n",
       "      <th>mean_score_time</th>\n",
       "      <th>std_score_time</th>\n",
       "      <th>param_min_samples_leaf</th>\n",
       "      <th>params</th>\n",
       "      <th>split0_test_score</th>\n",
       "      <th>split1_test_score</th>\n",
       "      <th>split2_test_score</th>\n",
       "      <th>split3_test_score</th>\n",
       "      <th>...</th>\n",
       "      <th>mean_test_score</th>\n",
       "      <th>std_test_score</th>\n",
       "      <th>rank_test_score</th>\n",
       "      <th>split0_train_score</th>\n",
       "      <th>split1_train_score</th>\n",
       "      <th>split2_train_score</th>\n",
       "      <th>split3_train_score</th>\n",
       "      <th>split4_train_score</th>\n",
       "      <th>mean_train_score</th>\n",
       "      <th>std_train_score</th>\n",
       "    </tr>\n",
       "  </thead>\n",
       "  <tbody>\n",
       "    <tr>\n",
       "      <th>0</th>\n",
       "      <td>0.056983</td>\n",
       "      <td>0.004588</td>\n",
       "      <td>0.004203</td>\n",
       "      <td>0.000398</td>\n",
       "      <td>1</td>\n",
       "      <td>{'min_samples_leaf': 1}</td>\n",
       "      <td>0.755345</td>\n",
       "      <td>0.757753</td>\n",
       "      <td>0.758999</td>\n",
       "      <td>0.773975</td>\n",
       "      <td>...</td>\n",
       "      <td>0.760659</td>\n",
       "      <td>0.006761</td>\n",
       "      <td>15</td>\n",
       "      <td>0.999017</td>\n",
       "      <td>0.999027</td>\n",
       "      <td>0.999025</td>\n",
       "      <td>0.998948</td>\n",
       "      <td>0.999054</td>\n",
       "      <td>0.999014</td>\n",
       "      <td>0.000036</td>\n",
       "    </tr>\n",
       "    <tr>\n",
       "      <th>1</th>\n",
       "      <td>0.047217</td>\n",
       "      <td>0.005720</td>\n",
       "      <td>0.004185</td>\n",
       "      <td>0.000731</td>\n",
       "      <td>21</td>\n",
       "      <td>{'min_samples_leaf': 21}</td>\n",
       "      <td>0.888007</td>\n",
       "      <td>0.897132</td>\n",
       "      <td>0.890954</td>\n",
       "      <td>0.893371</td>\n",
       "      <td>...</td>\n",
       "      <td>0.892976</td>\n",
       "      <td>0.003230</td>\n",
       "      <td>11</td>\n",
       "      <td>0.933644</td>\n",
       "      <td>0.931526</td>\n",
       "      <td>0.932265</td>\n",
       "      <td>0.931293</td>\n",
       "      <td>0.931967</td>\n",
       "      <td>0.932139</td>\n",
       "      <td>0.000825</td>\n",
       "    </tr>\n",
       "    <tr>\n",
       "      <th>2</th>\n",
       "      <td>0.043200</td>\n",
       "      <td>0.005565</td>\n",
       "      <td>0.003800</td>\n",
       "      <td>0.000748</td>\n",
       "      <td>41</td>\n",
       "      <td>{'min_samples_leaf': 41}</td>\n",
       "      <td>0.895064</td>\n",
       "      <td>0.901155</td>\n",
       "      <td>0.900198</td>\n",
       "      <td>0.899517</td>\n",
       "      <td>...</td>\n",
       "      <td>0.899891</td>\n",
       "      <td>0.002769</td>\n",
       "      <td>3</td>\n",
       "      <td>0.924841</td>\n",
       "      <td>0.921233</td>\n",
       "      <td>0.921031</td>\n",
       "      <td>0.922464</td>\n",
       "      <td>0.923977</td>\n",
       "      <td>0.922709</td>\n",
       "      <td>0.001497</td>\n",
       "    </tr>\n",
       "    <tr>\n",
       "      <th>3</th>\n",
       "      <td>0.047202</td>\n",
       "      <td>0.001936</td>\n",
       "      <td>0.004201</td>\n",
       "      <td>0.000749</td>\n",
       "      <td>61</td>\n",
       "      <td>{'min_samples_leaf': 61}</td>\n",
       "      <td>0.897963</td>\n",
       "      <td>0.903132</td>\n",
       "      <td>0.900213</td>\n",
       "      <td>0.899253</td>\n",
       "      <td>...</td>\n",
       "      <td>0.900767</td>\n",
       "      <td>0.002114</td>\n",
       "      <td>1</td>\n",
       "      <td>0.917178</td>\n",
       "      <td>0.914614</td>\n",
       "      <td>0.915676</td>\n",
       "      <td>0.917273</td>\n",
       "      <td>0.917837</td>\n",
       "      <td>0.916515</td>\n",
       "      <td>0.001190</td>\n",
       "    </tr>\n",
       "    <tr>\n",
       "      <th>4</th>\n",
       "      <td>0.041029</td>\n",
       "      <td>0.004883</td>\n",
       "      <td>0.004578</td>\n",
       "      <td>0.000840</td>\n",
       "      <td>81</td>\n",
       "      <td>{'min_samples_leaf': 81}</td>\n",
       "      <td>0.895117</td>\n",
       "      <td>0.904100</td>\n",
       "      <td>0.898988</td>\n",
       "      <td>0.899380</td>\n",
       "      <td>...</td>\n",
       "      <td>0.899619</td>\n",
       "      <td>0.002884</td>\n",
       "      <td>4</td>\n",
       "      <td>0.914364</td>\n",
       "      <td>0.911281</td>\n",
       "      <td>0.912702</td>\n",
       "      <td>0.913230</td>\n",
       "      <td>0.912736</td>\n",
       "      <td>0.912862</td>\n",
       "      <td>0.000993</td>\n",
       "    </tr>\n",
       "  </tbody>\n",
       "</table>\n",
       "<p>5 rows × 21 columns</p>\n",
       "</div>"
      ],
      "text/plain": [
       "   mean_fit_time  std_fit_time  mean_score_time  std_score_time  \\\n",
       "0       0.056983      0.004588         0.004203        0.000398   \n",
       "1       0.047217      0.005720         0.004185        0.000731   \n",
       "2       0.043200      0.005565         0.003800        0.000748   \n",
       "3       0.047202      0.001936         0.004201        0.000749   \n",
       "4       0.041029      0.004883         0.004578        0.000840   \n",
       "\n",
       "  param_min_samples_leaf                    params  split0_test_score  \\\n",
       "0                      1   {'min_samples_leaf': 1}           0.755345   \n",
       "1                     21  {'min_samples_leaf': 21}           0.888007   \n",
       "2                     41  {'min_samples_leaf': 41}           0.895064   \n",
       "3                     61  {'min_samples_leaf': 61}           0.897963   \n",
       "4                     81  {'min_samples_leaf': 81}           0.895117   \n",
       "\n",
       "   split1_test_score  split2_test_score  split3_test_score  ...  \\\n",
       "0           0.757753           0.758999           0.773975  ...   \n",
       "1           0.897132           0.890954           0.893371  ...   \n",
       "2           0.901155           0.900198           0.899517  ...   \n",
       "3           0.903132           0.900213           0.899253  ...   \n",
       "4           0.904100           0.898988           0.899380  ...   \n",
       "\n",
       "   mean_test_score  std_test_score  rank_test_score  split0_train_score  \\\n",
       "0         0.760659        0.006761               15            0.999017   \n",
       "1         0.892976        0.003230               11            0.933644   \n",
       "2         0.899891        0.002769                3            0.924841   \n",
       "3         0.900767        0.002114                1            0.917178   \n",
       "4         0.899619        0.002884                4            0.914364   \n",
       "\n",
       "   split1_train_score  split2_train_score  split3_train_score  \\\n",
       "0            0.999027            0.999025            0.998948   \n",
       "1            0.931526            0.932265            0.931293   \n",
       "2            0.921233            0.921031            0.922464   \n",
       "3            0.914614            0.915676            0.917273   \n",
       "4            0.911281            0.912702            0.913230   \n",
       "\n",
       "   split4_train_score  mean_train_score  std_train_score  \n",
       "0            0.999054          0.999014         0.000036  \n",
       "1            0.931967          0.932139         0.000825  \n",
       "2            0.923977          0.922709         0.001497  \n",
       "3            0.917837          0.916515         0.001190  \n",
       "4            0.912736          0.912862         0.000993  \n",
       "\n",
       "[5 rows x 21 columns]"
      ]
     },
     "execution_count": 48,
     "metadata": {},
     "output_type": "execute_result"
    }
   ],
   "source": [
    "grid_search_results = pd.DataFrame(clf_gs.cv_results_)\n",
    "grid_search_results.head()"
   ]
  },
  {
   "cell_type": "code",
   "execution_count": 49,
   "id": "f95ba028",
   "metadata": {
    "scrolled": true
   },
   "outputs": [
    {
     "data": {
      "image/png": "[encoded data removed]",
      "text/plain": [
       "<Figure size 1296x432 with 1 Axes>"
      ]
     },
     "metadata": {
      "needs_background": "light"
     },
     "output_type": "display_data"
    }
   ],
   "source": [
    "plt.figure(figsize=(18,6))\n",
    "plt.plot(grid_search_results[\"param_min_samples_leaf\"], grid_search_results[\"mean_test_score\"], label=\"test\")\n",
    "plt.plot(grid_search_results[\"param_min_samples_leaf\"], grid_search_results[\"mean_train_score\"], label=\"train\")\n",
    "plt.grid(visible=True, axis=\"x\")\n",
    "plt.xticks(ticks=range(0,300,20))\n",
    "plt.legend()\n",
    "plt.show()"
   ]
  },
  {
   "cell_type": "markdown",
   "id": "94112dd0",
   "metadata": {},
   "source": [
    "<b>max_features</b>"
   ]
  },
  {
   "cell_type": "code",
   "execution_count": 50,
   "id": "20b4674b",
   "metadata": {},
   "outputs": [
    {
     "name": "stdout",
     "output_type": "stream",
     "text": [
      "Fitting 5 folds for each of 11 candidates, totalling 55 fits\n"
     ]
    },
    {
     "data": {
      "text/plain": [
       "GridSearchCV(cv=5, estimator=DecisionTreeClassifier(random_state=42), n_jobs=4,\n",
       "             param_grid={'max_features': [1, 2, 3, 4, 5, 6, 7, 8, 9, 10, 11]},\n",
       "             return_train_score=True, scoring='roc_auc', verbose=4)"
      ]
     },
     "execution_count": 50,
     "metadata": {},
     "output_type": "execute_result"
    }
   ],
   "source": [
    "# param_grid = ParameterGrid({\"max_depth\":[5]})\n",
    "param_grid = {\"max_features\":list(range(1, 12))}\n",
    "clf_gs = GridSearchCV(estimator=clf_dt, param_grid=param_grid, scoring=\"roc_auc\", cv=5, n_jobs=4, verbose=4, return_train_score=True)\n",
    "clf_gs.fit(X_train, y_train)"
   ]
  },
  {
   "cell_type": "code",
   "execution_count": 51,
   "id": "53c82534",
   "metadata": {
    "scrolled": true
   },
   "outputs": [
    {
     "data": {
      "text/html": [
       "<div>\n",
       "<style scoped>\n",
       "    .dataframe tbody tr th:only-of-type {\n",
       "        vertical-align: middle;\n",
       "    }\n",
       "\n",
       "    .dataframe tbody tr th {\n",
       "        vertical-align: top;\n",
       "    }\n",
       "\n",
       "    .dataframe thead th {\n",
       "        text-align: right;\n",
       "    }\n",
       "</style>\n",
       "<table border=\"1\" class=\"dataframe\">\n",
       "  <thead>\n",
       "    <tr style=\"text-align: right;\">\n",
       "      <th></th>\n",
       "      <th>mean_fit_time</th>\n",
       "      <th>std_fit_time</th>\n",
       "      <th>mean_score_time</th>\n",
       "      <th>std_score_time</th>\n",
       "      <th>param_max_features</th>\n",
       "      <th>params</th>\n",
       "      <th>split0_test_score</th>\n",
       "      <th>split1_test_score</th>\n",
       "      <th>split2_test_score</th>\n",
       "      <th>split3_test_score</th>\n",
       "      <th>...</th>\n",
       "      <th>mean_test_score</th>\n",
       "      <th>std_test_score</th>\n",
       "      <th>rank_test_score</th>\n",
       "      <th>split0_train_score</th>\n",
       "      <th>split1_train_score</th>\n",
       "      <th>split2_train_score</th>\n",
       "      <th>split3_train_score</th>\n",
       "      <th>split4_train_score</th>\n",
       "      <th>mean_train_score</th>\n",
       "      <th>std_train_score</th>\n",
       "    </tr>\n",
       "  </thead>\n",
       "  <tbody>\n",
       "    <tr>\n",
       "      <th>0</th>\n",
       "      <td>0.022015</td>\n",
       "      <td>0.003062</td>\n",
       "      <td>0.004602</td>\n",
       "      <td>0.000489</td>\n",
       "      <td>1</td>\n",
       "      <td>{'max_features': 1}</td>\n",
       "      <td>0.737096</td>\n",
       "      <td>0.740012</td>\n",
       "      <td>0.738199</td>\n",
       "      <td>0.749977</td>\n",
       "      <td>...</td>\n",
       "      <td>0.744480</td>\n",
       "      <td>0.007796</td>\n",
       "      <td>11</td>\n",
       "      <td>0.999017</td>\n",
       "      <td>0.999027</td>\n",
       "      <td>0.999025</td>\n",
       "      <td>0.998948</td>\n",
       "      <td>0.999054</td>\n",
       "      <td>0.999014</td>\n",
       "      <td>0.000036</td>\n",
       "    </tr>\n",
       "    <tr>\n",
       "      <th>1</th>\n",
       "      <td>0.027199</td>\n",
       "      <td>0.004534</td>\n",
       "      <td>0.005215</td>\n",
       "      <td>0.000394</td>\n",
       "      <td>2</td>\n",
       "      <td>{'max_features': 2}</td>\n",
       "      <td>0.754073</td>\n",
       "      <td>0.757098</td>\n",
       "      <td>0.749951</td>\n",
       "      <td>0.764677</td>\n",
       "      <td>...</td>\n",
       "      <td>0.756773</td>\n",
       "      <td>0.004859</td>\n",
       "      <td>8</td>\n",
       "      <td>0.999017</td>\n",
       "      <td>0.999027</td>\n",
       "      <td>0.999025</td>\n",
       "      <td>0.998948</td>\n",
       "      <td>0.999054</td>\n",
       "      <td>0.999014</td>\n",
       "      <td>0.000036</td>\n",
       "    </tr>\n",
       "    <tr>\n",
       "      <th>2</th>\n",
       "      <td>0.028208</td>\n",
       "      <td>0.002317</td>\n",
       "      <td>0.004991</td>\n",
       "      <td>0.000894</td>\n",
       "      <td>3</td>\n",
       "      <td>{'max_features': 3}</td>\n",
       "      <td>0.762645</td>\n",
       "      <td>0.766291</td>\n",
       "      <td>0.751166</td>\n",
       "      <td>0.761905</td>\n",
       "      <td>...</td>\n",
       "      <td>0.760702</td>\n",
       "      <td>0.005060</td>\n",
       "      <td>1</td>\n",
       "      <td>0.999017</td>\n",
       "      <td>0.999027</td>\n",
       "      <td>0.999025</td>\n",
       "      <td>0.998948</td>\n",
       "      <td>0.999054</td>\n",
       "      <td>0.999014</td>\n",
       "      <td>0.000036</td>\n",
       "    </tr>\n",
       "    <tr>\n",
       "      <th>3</th>\n",
       "      <td>0.029601</td>\n",
       "      <td>0.002060</td>\n",
       "      <td>0.004201</td>\n",
       "      <td>0.000400</td>\n",
       "      <td>4</td>\n",
       "      <td>{'max_features': 4}</td>\n",
       "      <td>0.767307</td>\n",
       "      <td>0.753867</td>\n",
       "      <td>0.753439</td>\n",
       "      <td>0.756461</td>\n",
       "      <td>...</td>\n",
       "      <td>0.755867</td>\n",
       "      <td>0.006308</td>\n",
       "      <td>10</td>\n",
       "      <td>0.999017</td>\n",
       "      <td>0.999027</td>\n",
       "      <td>0.999025</td>\n",
       "      <td>0.998948</td>\n",
       "      <td>0.999054</td>\n",
       "      <td>0.999014</td>\n",
       "      <td>0.000036</td>\n",
       "    </tr>\n",
       "    <tr>\n",
       "      <th>4</th>\n",
       "      <td>0.037399</td>\n",
       "      <td>0.002578</td>\n",
       "      <td>0.004402</td>\n",
       "      <td>0.001021</td>\n",
       "      <td>5</td>\n",
       "      <td>{'max_features': 5}</td>\n",
       "      <td>0.759764</td>\n",
       "      <td>0.753206</td>\n",
       "      <td>0.745525</td>\n",
       "      <td>0.766186</td>\n",
       "      <td>...</td>\n",
       "      <td>0.756425</td>\n",
       "      <td>0.006880</td>\n",
       "      <td>9</td>\n",
       "      <td>0.999017</td>\n",
       "      <td>0.999027</td>\n",
       "      <td>0.999025</td>\n",
       "      <td>0.998948</td>\n",
       "      <td>0.999054</td>\n",
       "      <td>0.999014</td>\n",
       "      <td>0.000036</td>\n",
       "    </tr>\n",
       "  </tbody>\n",
       "</table>\n",
       "<p>5 rows × 21 columns</p>\n",
       "</div>"
      ],
      "text/plain": [
       "   mean_fit_time  std_fit_time  mean_score_time  std_score_time  \\\n",
       "0       0.022015      0.003062         0.004602        0.000489   \n",
       "1       0.027199      0.004534         0.005215        0.000394   \n",
       "2       0.028208      0.002317         0.004991        0.000894   \n",
       "3       0.029601      0.002060         0.004201        0.000400   \n",
       "4       0.037399      0.002578         0.004402        0.001021   \n",
       "\n",
       "  param_max_features               params  split0_test_score  \\\n",
       "0                  1  {'max_features': 1}           0.737096   \n",
       "1                  2  {'max_features': 2}           0.754073   \n",
       "2                  3  {'max_features': 3}           0.762645   \n",
       "3                  4  {'max_features': 4}           0.767307   \n",
       "4                  5  {'max_features': 5}           0.759764   \n",
       "\n",
       "   split1_test_score  split2_test_score  split3_test_score  ...  \\\n",
       "0           0.740012           0.738199           0.749977  ...   \n",
       "1           0.757098           0.749951           0.764677  ...   \n",
       "2           0.766291           0.751166           0.761905  ...   \n",
       "3           0.753867           0.753439           0.756461  ...   \n",
       "4           0.753206           0.745525           0.766186  ...   \n",
       "\n",
       "   mean_test_score  std_test_score  rank_test_score  split0_train_score  \\\n",
       "0         0.744480        0.007796               11            0.999017   \n",
       "1         0.756773        0.004859                8            0.999017   \n",
       "2         0.760702        0.005060                1            0.999017   \n",
       "3         0.755867        0.006308               10            0.999017   \n",
       "4         0.756425        0.006880                9            0.999017   \n",
       "\n",
       "   split1_train_score  split2_train_score  split3_train_score  \\\n",
       "0            0.999027            0.999025            0.998948   \n",
       "1            0.999027            0.999025            0.998948   \n",
       "2            0.999027            0.999025            0.998948   \n",
       "3            0.999027            0.999025            0.998948   \n",
       "4            0.999027            0.999025            0.998948   \n",
       "\n",
       "   split4_train_score  mean_train_score  std_train_score  \n",
       "0            0.999054          0.999014         0.000036  \n",
       "1            0.999054          0.999014         0.000036  \n",
       "2            0.999054          0.999014         0.000036  \n",
       "3            0.999054          0.999014         0.000036  \n",
       "4            0.999054          0.999014         0.000036  \n",
       "\n",
       "[5 rows x 21 columns]"
      ]
     },
     "execution_count": 51,
     "metadata": {},
     "output_type": "execute_result"
    }
   ],
   "source": [
    "grid_search_results = pd.DataFrame(clf_gs.cv_results_)\n",
    "grid_search_results.head()"
   ]
  },
  {
   "cell_type": "code",
   "execution_count": 52,
   "id": "5dff024b",
   "metadata": {
    "scrolled": false
   },
   "outputs": [
    {
     "data": {
      "image/png": "[encoded data removed]",
      "text/plain": [
       "<Figure size 1296x432 with 1 Axes>"
      ]
     },
     "metadata": {
      "needs_background": "light"
     },
     "output_type": "display_data"
    }
   ],
   "source": [
    "plt.figure(figsize=(18,6))\n",
    "plt.plot(grid_search_results[\"param_max_features\"], grid_search_results[\"mean_test_score\"], label=\"test\")\n",
    "plt.plot(grid_search_results[\"param_max_features\"], grid_search_results[\"mean_train_score\"], label=\"train\")\n",
    "plt.grid(visible=True, axis=\"x\")\n",
    "plt.xticks(ticks=range(1,12,1))\n",
    "plt.legend()\n",
    "plt.show()"
   ]
  },
  {
   "cell_type": "markdown",
   "id": "b2c3b43f",
   "metadata": {},
   "source": [
    "## Creating final model"
   ]
  },
  {
   "cell_type": "code",
   "execution_count": 53,
   "id": "0dd2ff32",
   "metadata": {},
   "outputs": [
    {
     "data": {
      "text/plain": [
       "DecisionTreeClassifier(max_depth=6, min_samples_leaf=120, min_samples_split=150,\n",
       "                       random_state=42)"
      ]
     },
     "execution_count": 53,
     "metadata": {},
     "output_type": "execute_result"
    }
   ],
   "source": [
    "# Creating the final model with the chosen hyperparameters\n",
    "final_clf_dt = DecisionTreeClassifier(max_depth=6, min_samples_split= 150, min_samples_leaf=120, random_state=42)\n",
    "final_clf_dt.fit(X_train, y_train)"
   ]
  },
  {
   "cell_type": "code",
   "execution_count": 60,
   "id": "3f13caa1",
   "metadata": {},
   "outputs": [
    {
     "data": {
      "image/png": "[encoded data removed]",
      "text/plain": [
       "<Figure size 432x288 with 1 Axes>"
      ]
     },
     "metadata": {
      "needs_background": "light"
     },
     "output_type": "display_data"
    }
   ],
   "source": [
    "# Plotting the ROC curve\n",
    "plot_roc_curve(final_clf_dt, X_train, y_train)\n",
    "plt.grid(visible=True, axis=\"x\")\n",
    "plt.xticks(ticks=np.arange(0, 1, 0.1))\n",
    "plt.show()"
   ]
  },
  {
   "cell_type": "code",
   "execution_count": 55,
   "id": "81224373",
   "metadata": {},
   "outputs": [
    {
     "name": "stdout",
     "output_type": "stream",
     "text": [
      "Optimal threshold: 0.2846153846153846\n"
     ]
    }
   ],
   "source": [
    "# Determining the optimal threshold\n",
    "y_train_score = final_clf_dt.predict_proba(X_train)\n",
    "fpr, tpr, thresholds = roc_curve(y_train, y_train_score[:,1])\n",
    "\n",
    "optimal_threshold_idx = np.argmax(tpr-fpr)\n",
    "optimal_threshold = thresholds[optimal_threshold_idx]\n",
    "print(\"Optimal threshold: {}\".format(optimal_threshold))"
   ]
  },
  {
   "cell_type": "code",
   "execution_count": 56,
   "id": "ed45342e",
   "metadata": {},
   "outputs": [
    {
     "name": "stdout",
     "output_type": "stream",
     "text": [
      "******Train Set******\n",
      "Accuaracy\n",
      "0.800691517074788\n",
      "--------------------------------------------------\n",
      "Classification Report\n",
      "              precision    recall  f1-score   support\n",
      "\n",
      "           0       0.94      0.79      0.86     15900\n",
      "           1       0.57      0.84      0.67      5213\n",
      "\n",
      "    accuracy                           0.80     21113\n",
      "   macro avg       0.75      0.81      0.77     21113\n",
      "weighted avg       0.84      0.80      0.81     21113\n",
      "\n",
      "--------------------------------------------------\n",
      "Confusion Matrix\n",
      "[[12551  3349]\n",
      " [  859  4354]]\n"
     ]
    }
   ],
   "source": [
    "# Predicitng the target variable based on the optimal threshold - for train set\n",
    "y_train_pred = final_clf_dt.predict_proba(X_train)[:,1]>0.284\n",
    "print(\"******Train Set******\")\n",
    "print(\"Accuaracy\")\n",
    "print(accuracy_score(y_train, y_train_pred))\n",
    "print(\"-\"*50)\n",
    "print(\"Classification Report\")\n",
    "print(classification_report(y_train, y_train_pred))\n",
    "print(\"-\"*50)\n",
    "print(\"Confusion Matrix\")\n",
    "print(confusion_matrix(y_train, y_train_pred))"
   ]
  },
  {
   "cell_type": "code",
   "execution_count": 59,
   "id": "c32ad650",
   "metadata": {},
   "outputs": [
    {
     "name": "stdout",
     "output_type": "stream",
     "text": [
      "******Test Set******\n",
      "Accuaracy\n",
      "0.8020775776328876\n",
      "--------------------------------------------------\n",
      "Classification Report\n",
      "              precision    recall  f1-score   support\n",
      "\n",
      "           0       0.94      0.79      0.86      6754\n",
      "           1       0.58      0.84      0.68      2295\n",
      "\n",
      "    accuracy                           0.80      9049\n",
      "   macro avg       0.76      0.81      0.77      9049\n",
      "weighted avg       0.84      0.80      0.81      9049\n",
      "\n",
      "--------------------------------------------------\n",
      "Confusion Matrix\n",
      "[[5328 1426]\n",
      " [ 365 1930]]\n"
     ]
    }
   ],
   "source": [
    "# Predicitng the target variable based on the optimal threshold - for test set\n",
    "y_test_pred = final_clf_dt.predict_proba(X_test)[:,1]>0.284\n",
    "print(\"******Test Set******\")\n",
    "print(\"Accuaracy\")\n",
    "print(accuracy_score(y_test, y_test_pred))\n",
    "print(\"-\"*50)\n",
    "print(\"Classification Report\")\n",
    "print(classification_report(y_test, y_test_pred))\n",
    "print(\"-\"*50)\n",
    "print(\"Confusion Matrix\")\n",
    "print(confusion_matrix(y_test, y_test_pred))"
   ]
  }
 ],
 "metadata": {
  "kernelspec": {
   "display_name": "Python 3 (ipykernel)",
   "language": "python",
   "name": "python3"
  },
  "language_info": {
   "codemirror_mode": {
    "name": "ipython",
    "version": 3
   },
   "file_extension": ".py",
   "mimetype": "text/x-python",
   "name": "python",
   "nbconvert_exporter": "python",
   "pygments_lexer": "ipython3",
   "version": "3.9.7"
  }
 },
 "nbformat": 4,
 "nbformat_minor": 5
}
